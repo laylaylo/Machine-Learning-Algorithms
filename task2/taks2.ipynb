{
 "cells": [
  {
   "attachments": {},
   "cell_type": "markdown",
   "metadata": {},
   "source": [
    "### Students\n",
    "Kemal Cagin Sertkaya - 2019400264\n",
    "\n",
    "Leyla Yayladere - 2018400216\n",
    "\n",
    "Mustafa Atay - 2020400333"
   ]
  },
  {
   "attachments": {},
   "cell_type": "markdown",
   "metadata": {},
   "source": [
    "## Q1 - Support Vector Machine"
   ]
  },
  {
   "cell_type": "code",
   "execution_count": 3,
   "metadata": {},
   "outputs": [],
   "source": [
    "from skimage.io import imread\n",
    "from skimage.transform import resize\n",
    "from skimage.feature import hog\n",
    "import matplotlib.pyplot as plt\n",
    "import numpy as np\n",
    "from PIL import Image, ImageOps\n",
    "from sklearn import svm\n",
    "from sklearn.decomposition import PCA\n",
    "from skimage import transform\n",
    "\n",
    "train_path = 'linearRegression_data/3dshapes_train'\n",
    "test_path = 'linearRegression_data/3dshapes_test'\n",
    "N_train = 10000\n",
    "N_test = 1000"
   ]
  },
  {
   "attachments": {},
   "cell_type": "markdown",
   "metadata": {},
   "source": [
    "\n",
    "### Histogram of Gradients Parameter Selection\n",
    "After searching on web, we decided to use below values for the HOG features (orientations, peixels_per_cell, cells_per_block etc.). The paper of Navneet Dalal and Bill Triggs, https://hal.inria.fr/inria-00548512/document, was referenced for the parameter selection.\n"
   ]
  },
  {
   "cell_type": "code",
   "execution_count": 2,
   "metadata": {},
   "outputs": [
    {
     "name": "stdout",
     "output_type": "stream",
     "text": [
      "(10000, 1568)\n",
      "(10000, 64, 64)\n"
     ]
    },
    {
     "data": {
      "image/png": "[encoded data removed]",
      "text/plain": [
       "<Figure size 640x480 with 1 Axes>"
      ]
     },
     "metadata": {},
     "output_type": "display_data"
    }
   ],
   "source": [
    "hog_train_images = []\n",
    "hog_train_features = []\n",
    "\n",
    "for i in range(N_train):\n",
    "    img = Image.open('{}/{}.jpg'.format(train_path, i))\n",
    "    # Since we don't need the color information, we convert the image to grayscale.\n",
    "    img = ImageOps.grayscale(img)\n",
    "    # hog function returns two values: feature descriptor (fd) and hog image (hog_image). Feature descriptors will be used for training later.\n",
    "    fd, hog_image = hog(img, orientations=8, pixels_per_cell=(8, 8), cells_per_block=(\n",
    "        2, 2), block_norm='L2-Hys', transform_sqrt=True, feature_vector=True, visualize=True)\n",
    "    hog_train_images.append(hog_image)\n",
    "    hog_train_features.append(fd)\n",
    "\n",
    "hog_train_features = np.array(hog_train_features)\n",
    "hog_train_images = np.array(hog_train_images)\n",
    "\n",
    "print(hog_train_features.shape)\n",
    "print(hog_train_images.shape)\n",
    "\n",
    "# Plot an example HoG image\n",
    "plt.imshow(hog_train_images[1000], cmap=plt.cm.gray)\n",
    "plt.show()"
   ]
  },
  {
   "cell_type": "code",
   "execution_count": 3,
   "metadata": {},
   "outputs": [
    {
     "name": "stdout",
     "output_type": "stream",
     "text": [
      "(1000, 1568)\n",
      "(1000, 64, 64)\n"
     ]
    }
   ],
   "source": [
    "# Apply the same procedure for test images.\n",
    "\n",
    "hog_test_images = []\n",
    "hog_test_features = []\n",
    "\n",
    "for i in range(N_test):\n",
    "    img = Image.open('{}/{}.jpg'.format(test_path, i))\n",
    "    img = ImageOps.grayscale(img)\n",
    "    fd, hog_image = hog(img, orientations=8, pixels_per_cell=(8, 8), cells_per_block=(\n",
    "        2, 2), block_norm='L2-Hys', transform_sqrt=True, feature_vector=True, visualize=True)\n",
    "    hog_test_images.append(hog_image)\n",
    "    hog_test_features.append(fd)\n",
    "    \n",
    "hog_test_features = np.array(hog_test_features)\n",
    "hog_test_images = np.array(hog_test_images)\n",
    "\n",
    "print(hog_test_features.shape)\n",
    "print(hog_test_images.shape)"
   ]
  },
  {
   "cell_type": "code",
   "execution_count": 5,
   "metadata": {},
   "outputs": [
    {
     "name": "stdout",
     "output_type": "stream",
     "text": [
      "[-30.         -25.71428571 -21.42857143 -17.14285714 -12.85714286\n",
      "  -8.57142857  -4.28571429   0.           4.28571429   8.57142857\n",
      "  12.85714286  17.14285714  21.42857143  25.71428571  30.        ]\n"
     ]
    }
   ],
   "source": [
    "y_train = np.load(\n",
    "    'linearRegression_data/orientations_train.npy')\n",
    "y_test = np.load(\n",
    "    'linearRegression_data/orientations_test.npy')\n",
    "\n",
    "print(np.unique(y_train))"
   ]
  },
  {
   "cell_type": "code",
   "execution_count": 6,
   "metadata": {},
   "outputs": [
    {
     "name": "stdout",
     "output_type": "stream",
     "text": [
      "[-30. -26. -21. -17. -13.  -9.  -4.   0.   4.   9.  13.  17.  21.  26.\n",
      "  30.]\n",
      "[-30. -26. -21. -17. -13.  -9.  -4.   0.   4.   9.  13.  17.  21.  26.\n",
      "  30.]\n"
     ]
    }
   ],
   "source": [
    "# Since these y-values contunius, we need to convert them to discrete values to make them suitable for classification problem.\n",
    "y_train = np.round(y_train)\n",
    "y_test = np.round(y_test)\n",
    "\n",
    "print(np.unique(y_train))\n",
    "print(np.unique(y_test))"
   ]
  },
  {
   "attachments": {},
   "cell_type": "markdown",
   "metadata": {},
   "source": [
    "### Q1.a(i) - binary classification problem"
   ]
  },
  {
   "cell_type": "code",
   "execution_count": 8,
   "metadata": {},
   "outputs": [
    {
     "name": "stdout",
     "output_type": "stream",
     "text": [
      "(1338, 1568)\n",
      "(1338,)\n",
      "(135, 1568)\n",
      "(135,)\n",
      "[-13.  13.]\n",
      "[-13.  13.]\n"
     ]
    }
   ],
   "source": [
    "# Select two classes for binary classification\n",
    "class1 = y_train[0]\n",
    "class2 = y_train[1]\n",
    "\n",
    "X_train_binary = hog_train_features[np.logical_or(y_train == class1, y_train == class2)]\n",
    "y_train_binary = y_train[np.logical_or(y_train == class1, y_train == class2)]\n",
    "\n",
    "X_test_binary = hog_test_features[np.logical_or(y_test == class1, y_test == class2)]\n",
    "y_test_binary = y_test[np.logical_or(y_test == class1, y_test == class2)]\n",
    "\n",
    "print(X_train_binary.shape)\n",
    "print(y_train_binary.shape)\n",
    "print(X_test_binary.shape)\n",
    "print(y_test_binary.shape)\n",
    "\n",
    "print(np.unique(y_train_binary))\n",
    "print(np.unique(y_test_binary))"
   ]
  },
  {
   "cell_type": "code",
   "execution_count": 9,
   "metadata": {},
   "outputs": [],
   "source": [
    "def calculateError(actual, predicted):\n",
    "    # Calculate the number of misclassified examples.\n",
    "    errors = np.count_nonzero(actual - predicted)\n",
    "    accuracy = 1 - (errors / actual.shape[0])\n",
    "    return errors, accuracy"
   ]
  },
  {
   "cell_type": "code",
   "execution_count": 10,
   "metadata": {},
   "outputs": [
    {
     "name": "stdout",
     "output_type": "stream",
     "text": [
      "2 class problem with linear kernel: accuracy: 1.0, error count: 0\n"
     ]
    }
   ],
   "source": [
    "# Apply SVM with linear kernel for the selected two classes.\n",
    "binary_clf = svm.SVC(kernel='linear', C=1)\n",
    "binary_clf.fit(X_train_binary, y_train_binary)\n",
    "\n",
    "# Predict the test examples.\n",
    "y_test_binary_predicted = binary_clf.predict(X_test_binary)\n",
    "errors, accuracy = calculateError(y_test_binary, y_test_binary_predicted)\n",
    "\n",
    "print('2 class problem with linear kernel: accuracy: {}, error count: {}'.format(accuracy, errors))"
   ]
  },
  {
   "attachments": {},
   "cell_type": "markdown",
   "metadata": {},
   "source": [
    "### Q1.a(ii) - 15 class classification problem"
   ]
  },
  {
   "cell_type": "code",
   "execution_count": 11,
   "metadata": {},
   "outputs": [
    {
     "name": "stdout",
     "output_type": "stream",
     "text": [
      "(10000, 1568)\n",
      "(10000,)\n",
      "(1000, 1568)\n",
      "(1000,)\n",
      "[-30. -26. -21. -17. -13.  -9.  -4.   0.   4.   9.  13.  17.  21.  26.\n",
      "  30.]\n",
      "[-30. -26. -21. -17. -13.  -9.  -4.   0.   4.   9.  13.  17.  21.  26.\n",
      "  30.]\n",
      "15 class problem with linear kernel: accuracy: 1.0, error count: 0\n"
     ]
    }
   ],
   "source": [
    "# For the 15-class problem, fetch all the HoG features for training and test examples.\n",
    "X_train_data = hog_train_features\n",
    "y_train_actual = y_train\n",
    "X_test_data = hog_test_features\n",
    "y_test_actual = y_test\n",
    "\n",
    "print(X_train_data.shape)\n",
    "print(y_train_actual.shape)\n",
    "print(X_test_data.shape)\n",
    "print(y_test_actual.shape)\n",
    "\n",
    "print(np.unique(y_train_actual))\n",
    "print(np.unique(y_test_actual))\n",
    "\n",
    "# Apply SVM with linear kernel for the 15-class problem.\n",
    "multi_clf = svm.SVC(kernel='linear', C=1)\n",
    "multi_clf.fit(X_train_data, y_train_actual)\n",
    "\n",
    "# Predict the test examples.\n",
    "y_test_predicted = multi_clf.predict(X_test_data)\n",
    "errors, accuracy = calculateError(y_test_actual, y_test_predicted)\n",
    "\n",
    "print('15 class problem with linear kernel: accuracy: {}, error count: {}'.format(accuracy, errors))"
   ]
  },
  {
   "attachments": {},
   "cell_type": "markdown",
   "metadata": {},
   "source": [
    "### Q1.a(iii) - Compare (i) and (ii)\n",
    "\n",
    "In the 2 class classification problem, the SVM only needs to differentiate between two classes, whereas in the 15 class classification problem, it needs to differentiate between 15 different classes. This makes the 15 class classification problem more complex and potentially more difficult. However, the test accuracies for both problems are the same at 1. This makes it difficult to compare their classification performance, but we can observe that the computation time for the binary classification problem is significantly less."
   ]
  },
  {
   "attachments": {},
   "cell_type": "markdown",
   "metadata": {},
   "source": [
    "### Q1.b"
   ]
  },
  {
   "cell_type": "code",
   "execution_count": 12,
   "metadata": {},
   "outputs": [
    {
     "name": "stdout",
     "output_type": "stream",
     "text": [
      "2 class problem with hard margin linear kernel: accuracy: 1.0, error count: 0\n",
      "2 class problem with soft margin linear kernel: accuracy: 1.0, error count: 0\n",
      "2 class problem with hard margin polynomial kernel: accuracy: 1.0, error count: 0\n",
      "2 class problem with soft margin polynomial kernel: accuracy: 1.0, error count: 0\n",
      "2 class problem with hard margin rbf kernel: accuracy: 1.0, error count: 0\n",
      "2 class problem with soft margin rbf kernel: accuracy: 1.0, error count: 0\n",
      "2 class problem with hard margin sigmoid kernel: accuracy: 1.0, error count: 0\n",
      "2 class problem with soft margin sigmoid kernel: accuracy: 1.0, error count: 0\n"
     ]
    }
   ],
   "source": [
    "# Same steps are repeated for binary classification problem for hard-margin linear SVM, soft-margin linear SVM, hard-margin non-linear SVM with various kernel functions, and soft-margin non-linear SVM with various kernel functions.\n",
    "\n",
    "# Hard Margin Linear SVM\n",
    "binary_clf = svm.SVC(kernel='linear', C=1000000)\n",
    "binary_clf.fit(X_train_binary, y_train_binary)\n",
    "y_test_binary_predicted = binary_clf.predict(X_test_binary)\n",
    "errors, accuracy = calculateError(y_test_binary, y_test_binary_predicted)\n",
    "print('2 class problem with hard margin linear kernel: accuracy: {}, error count: {}'.format(accuracy, errors))\n",
    "\n",
    "# Soft Margin Linear SVM\n",
    "binary_clf = svm.SVC(kernel='linear', C=1)\n",
    "binary_clf.fit(X_train_binary, y_train_binary)\n",
    "y_test_binary_predicted = binary_clf.predict(X_test_binary)\n",
    "errors, accuracy = calculateError(y_test_binary, y_test_binary_predicted)\n",
    "print('2 class problem with soft margin linear kernel: accuracy: {}, error count: {}'.format(accuracy, errors))\n",
    "\n",
    "# Hard Margin Non-Linear SVM with Polynomial Kernel\n",
    "binary_clf = svm.SVC(kernel='poly', C=1000000)\n",
    "binary_clf.fit(X_train_binary, y_train_binary)\n",
    "y_test_binary_predicted = binary_clf.predict(X_test_binary)\n",
    "errors, accuracy = calculateError(y_test_binary, y_test_binary_predicted)\n",
    "print('2 class problem with hard margin polynomial kernel: accuracy: {}, error count: {}'.format(accuracy, errors))\n",
    "\n",
    "# Soft Margin Non-Linear SVM with Polynomial Kernel\n",
    "binary_clf = svm.SVC(kernel='poly', C=1)\n",
    "binary_clf.fit(X_train_binary, y_train_binary)\n",
    "y_test_binary_predicted = binary_clf.predict(X_test_binary)\n",
    "errors, accuracy = calculateError(y_test_binary, y_test_binary_predicted)\n",
    "print('2 class problem with soft margin polynomial kernel: accuracy: {}, error count: {}'.format(accuracy, errors))\n",
    "\n",
    "# Hard Margin Non-Linear SVM with RBF Kernel\n",
    "binary_clf = svm.SVC(kernel='rbf', C=1000000)\n",
    "binary_clf.fit(X_train_binary, y_train_binary)\n",
    "y_test_binary_predicted = binary_clf.predict(X_test_binary)\n",
    "errors, accuracy = calculateError(y_test_binary, y_test_binary_predicted)\n",
    "print('2 class problem with hard margin rbf kernel: accuracy: {}, error count: {}'.format(accuracy, errors))\n",
    "\n",
    "# Soft Margin Non-Linear SVM with RBF Kernel\n",
    "binary_clf = svm.SVC(kernel='rbf', C=1)\n",
    "binary_clf.fit(X_train_binary, y_train_binary)\n",
    "y_test_binary_predicted = binary_clf.predict(X_test_binary)\n",
    "errors, accuracy = calculateError(y_test_binary, y_test_binary_predicted)\n",
    "print('2 class problem with soft margin rbf kernel: accuracy: {}, error count: {}'.format(accuracy, errors))\n",
    "\n",
    "# Hard Margin Non-Linear SVM with Sigmoid Kernel\n",
    "binary_clf = svm.SVC(kernel='sigmoid', C=1000000)\n",
    "binary_clf.fit(X_train_binary, y_train_binary)\n",
    "y_test_binary_predicted = binary_clf.predict(X_test_binary)\n",
    "errors, accuracy = calculateError(y_test_binary, y_test_binary_predicted)\n",
    "print('2 class problem with hard margin sigmoid kernel: accuracy: {}, error count: {}'.format(accuracy, errors))\n",
    "\n",
    "# Soft Margin Non-Linear SVM with Sigmoid Kernel\n",
    "binary_clf = svm.SVC(kernel='sigmoid', C=1)\n",
    "binary_clf.fit(X_train_binary, y_train_binary)\n",
    "y_test_binary_predicted = binary_clf.predict(X_test_binary)\n",
    "errors, accuracy = calculateError(y_test_binary, y_test_binary_predicted)\n",
    "print('2 class problem with soft margin sigmoid kernel: accuracy: {}, error count: {}'.format(accuracy, errors))"
   ]
  },
  {
   "cell_type": "code",
   "execution_count": 13,
   "metadata": {},
   "outputs": [
    {
     "name": "stdout",
     "output_type": "stream",
     "text": [
      "15 class problem with hard margin linear kernel: accuracy: 1.0, error count: 0\n",
      "15 class problem with soft margin linear kernel: accuracy: 1.0, error count: 0\n",
      "15 class problem with hard margin polynomial kernel: accuracy: 1.0, error count: 0\n",
      "15 class problem with soft margin polynomial kernel: accuracy: 1.0, error count: 0\n",
      "15 class problem with hard margin rbf kernel: accuracy: 1.0, error count: 0\n",
      "15 class problem with soft margin rbf kernel: accuracy: 1.0, error count: 0\n",
      "15 class problem with hard margin sigmoid kernel: accuracy: 0.964, error count: 36\n",
      "15 class problem with soft margin sigmoid kernel: accuracy: 1.0, error count: 0\n"
     ]
    }
   ],
   "source": [
    "# Same steps are repeated for 15-class classification problem for hard-margin linear SVM, soft-margin linear SVM, hard-margin non-linear SVM with various kernel functions, and soft-margin non-linear SVM with various kernel functions.\n",
    "\n",
    "# Hard Margin Linear SVM\n",
    "multi_clf = svm.SVC(kernel='linear', C=1000000)\n",
    "multi_clf.fit(X_train_data, y_train_actual)\n",
    "y_test_predicted = multi_clf.predict(X_test_data)\n",
    "errors, accuracy = calculateError(y_test_actual, y_test_predicted)\n",
    "print('15 class problem with hard margin linear kernel: accuracy: {}, error count: {}'.format(accuracy, errors))\n",
    "\n",
    "# Soft Margin Linear SVM\n",
    "multi_clf = svm.SVC(kernel='linear', C=1)\n",
    "multi_clf.fit(X_train_data, y_train_actual)\n",
    "y_test_predicted = multi_clf.predict(X_test_data)\n",
    "errors, accuracy = calculateError(y_test_actual, y_test_predicted)\n",
    "print('15 class problem with soft margin linear kernel: accuracy: {}, error count: {}'.format(accuracy, errors))\n",
    "\n",
    "# Hard Margin Non-Linear SVM with Polynomial Kernel\n",
    "multi_clf = svm.SVC(kernel='poly', C=1000000)\n",
    "multi_clf.fit(X_train_data, y_train_actual)\n",
    "y_test_predicted = multi_clf.predict(X_test_data)\n",
    "errors, accuracy = calculateError(y_test_actual, y_test_predicted)\n",
    "print('15 class problem with hard margin polynomial kernel: accuracy: {}, error count: {}'.format(accuracy, errors))\n",
    "\n",
    "# Soft Margin Non-Linear SVM with Polynomial Kernel\n",
    "multi_clf = svm.SVC(kernel='poly', C=1)\n",
    "multi_clf.fit(X_train_data, y_train_actual)\n",
    "y_test_predicted = multi_clf.predict(X_test_data)\n",
    "errors, accuracy = calculateError(y_test_actual, y_test_predicted)\n",
    "print('15 class problem with soft margin polynomial kernel: accuracy: {}, error count: {}'.format(accuracy, errors))\n",
    "\n",
    "# Hard Margin Non-Linear SVM with RBF Kernel\n",
    "multi_clf = svm.SVC(kernel='rbf', C=1000000)\n",
    "multi_clf.fit(X_train_data, y_train_actual)\n",
    "y_test_predicted = multi_clf.predict(X_test_data)\n",
    "errors, accuracy = calculateError(y_test_actual, y_test_predicted)\n",
    "print('15 class problem with hard margin rbf kernel: accuracy: {}, error count: {}'.format(accuracy, errors))\n",
    "\n",
    "# Soft Margin Non-Linear SVM with RBF Kernel\n",
    "multi_clf = svm.SVC(kernel='rbf', C=1)\n",
    "multi_clf.fit(X_train_data, y_train_actual)\n",
    "y_test_predicted = multi_clf.predict(X_test_data)\n",
    "errors, accuracy = calculateError(y_test_actual, y_test_predicted)\n",
    "print('15 class problem with soft margin rbf kernel: accuracy: {}, error count: {}'.format(accuracy, errors))\n",
    "\n",
    "# Hard Margin Non-Linear SVM with Sigmoid Kernel\n",
    "multi_clf = svm.SVC(kernel='sigmoid', C=1000000)\n",
    "multi_clf.fit(X_train_data, y_train_actual)\n",
    "y_test_predicted = multi_clf.predict(X_test_data)\n",
    "errors, accuracy = calculateError(y_test_actual, y_test_predicted)\n",
    "print('15 class problem with hard margin sigmoid kernel: accuracy: {}, error count: {}'.format(accuracy, errors))\n",
    "\n",
    "# Soft Margin Non-Linear SVM with Sigmoid Kernel\n",
    "multi_clf = svm.SVC(kernel='sigmoid', C=1)\n",
    "multi_clf.fit(X_train_data, y_train_actual)\n",
    "y_test_predicted = multi_clf.predict(X_test_data)\n",
    "errors, accuracy = calculateError(y_test_actual, y_test_predicted)\n",
    "print('15 class problem with soft margin sigmoid kernel: accuracy: {}, error count: {}'.format(accuracy, errors))"
   ]
  },
  {
   "attachments": {},
   "cell_type": "markdown",
   "metadata": {},
   "source": [
    "### Q1.c\n",
    "\n",
    "We observed a notable improvement in execution time after applying PCA. This improvement can be attributed to the reduction in the number of features from 1568 to 100. Without PCA, the binary class problem took 0.5 seconds, while the multiclass problem took 15.2 seconds. However, with PCA, the binary class problem required less than 0.1 seconds, and the multiclass problem took 1.5 seconds."
   ]
  },
  {
   "cell_type": "code",
   "execution_count": 14,
   "metadata": {},
   "outputs": [
    {
     "name": "stdout",
     "output_type": "stream",
     "text": [
      "(1338, 100)\n",
      "(135, 100)\n"
     ]
    }
   ],
   "source": [
    "# Before applying SVM to binary classification problem, PCA is applied to reduce the dimensionality of the data. The number of components is selected as 100.\n",
    "\n",
    "pca = PCA(n_components=100)\n",
    "\n",
    "X_train_binary_pca = pca.fit_transform(X_train_binary)\n",
    "X_test_binary_pca = pca.transform(X_test_binary)\n",
    "\n",
    "print(X_train_binary_pca.shape)\n",
    "print(X_test_binary_pca.shape)"
   ]
  },
  {
   "cell_type": "code",
   "execution_count": 15,
   "metadata": {},
   "outputs": [
    {
     "name": "stdout",
     "output_type": "stream",
     "text": [
      "2 class problem with soft margin linear kernel after PCA: accuracy: 1.0, error count: 0\n"
     ]
    }
   ],
   "source": [
    "binary_clf = svm.SVC(kernel='linear', C=1)\n",
    "binary_clf.fit(X_train_binary_pca, y_train_binary)\n",
    "y_test_binary_predicted = binary_clf.predict(X_test_binary_pca)\n",
    "errors, accuracy = calculateError(y_test_binary, y_test_binary_predicted)\n",
    "\n",
    "print('2 class problem with soft margin linear kernel after PCA: accuracy: {}, error count: {}'.format(accuracy, errors))"
   ]
  },
  {
   "cell_type": "code",
   "execution_count": 16,
   "metadata": {},
   "outputs": [
    {
     "name": "stdout",
     "output_type": "stream",
     "text": [
      "(10000, 100)\n",
      "(1000, 100)\n"
     ]
    }
   ],
   "source": [
    "# All Classes \n",
    "pca = PCA(n_components=100)\n",
    "\n",
    "X_train_data_pca = pca.fit_transform(X_train_data)\n",
    "X_test_data_pca = pca.transform(X_test_data)\n",
    "\n",
    "print(X_train_data_pca.shape)\n",
    "print(X_test_data_pca.shape)"
   ]
  },
  {
   "cell_type": "code",
   "execution_count": 17,
   "metadata": {},
   "outputs": [
    {
     "name": "stdout",
     "output_type": "stream",
     "text": [
      "15 class problem with soft margin linear kernel after PCA: accuracy: 1.0, error count: 0\n"
     ]
    }
   ],
   "source": [
    "multi_clf = svm.SVC(kernel='linear', C=1)\n",
    "multi_clf.fit(X_train_data_pca, y_train_actual)\n",
    "y_test_predicted = multi_clf.predict(X_test_data_pca)\n",
    "errors, accuracy = calculateError(y_test_actual, y_test_predicted)\n",
    "print('15 class problem with soft margin linear kernel after PCA: accuracy: {}, error count: {}'.format(accuracy, errors))"
   ]
  },
  {
   "attachments": {},
   "cell_type": "markdown",
   "metadata": {},
   "source": [
    "## Q2 - k-Means Clustering and Gaussian Mixture Models\n",
    "### Q2.a - Create dataset from Gaussian Mixture\n",
    "##### Describe how the sampling strategy you will use work.\n",
    "1. Choose one of the Gaussian distributions in the mixture according to the mixing probabilities. This can be done by generating a random number between 0 and 1 and comparing it to the cumulative distribution function of the mixing probabilities. --> ```np.random.choice(4, p=pi)```\n",
    "2. Generate a sample from the chosen Gaussian distribution using its mean and covariance. Since we consider 2-dimensional Gaussians, there are two variables. Therefore, use the ```multivariate_normal function``` from the numpy.random module. This function takes the mean vector and covariance matrix as inputs and returns a sample from the corresponding Gaussian distribution.\n",
    "3. Repeat steps 1 and 2 to generate as many samples as desired."
   ]
  },
  {
   "cell_type": "code",
   "execution_count": 4,
   "metadata": {},
   "outputs": [
    {
     "data": {
      "image/png": "[encoded data removed]",
      "text/plain": [
       "<Figure size 640x480 with 1 Axes>"
      ]
     },
     "metadata": {},
     "output_type": "display_data"
    }
   ],
   "source": [
    "import matplotlib.pyplot as plt\n",
    "\n",
    "# Define Gaussian Mixture parameters\n",
    "\n",
    "# pi is the vector of mixing probabilities\n",
    "# given in the question as π1 = π2 = π3 = π4 = 0.25\n",
    "pi = [0.25, 0.25, 0.25, 0.25]\n",
    "\n",
    "# mu is the matrix of means\n",
    "# given in the question as μ1 =(0,1), μ2 =(1,0), μ3 =(−1,0), μ4 =(0,−1)\n",
    "mu = [[0, 1], [1, 0], [-1, 0], [0, -1]]\n",
    "\n",
    "# cov is the list of covariance matrices\n",
    "# given in the question as Σ1 =Σ2 =Σ3 =Σ4 =I2 where Σk is the covariance matrix of the kth Gaussian\n",
    "cov = [np.eye(2), np.eye(2), np.eye(2), np.eye(2)]\n",
    "\n",
    "# Sample 500 points from mixture\n",
    "samples = []\n",
    "true_clusters = [[], [], [], []]\n",
    "x_y_truth = []\n",
    "for i in range(500):\n",
    "    # Choose Gaussian\n",
    "    k = np.random.choice(4, p=pi)\n",
    "    # Sample from chosen Gaussian\n",
    "    x = np.random.multivariate_normal(mu[k], cov[k])\n",
    "    x_y_truth.append([x[0],x[1], k])\n",
    "    # true label of the sample\n",
    "    true_clusters[k].append(x)\n",
    "    samples.append(x)\n",
    "\n",
    "# Plot the samples\n",
    "samples = np.array(samples)\n",
    "# Plot the true_clusters\n",
    "for i in range(4):\n",
    "    plt.scatter(np.array(true_clusters[i])[:, 0], np.array(true_clusters[i])[:, 1])\n",
    "\n",
    "#plt.scatter(samples[:, 0], samples[:, 1])\n",
    "#plt.show()"
   ]
  },
  {
   "attachments": {},
   "cell_type": "markdown",
   "metadata": {},
   "source": [
    "### Q2.a - Implement the k-means algorithm from scratch."
   ]
  },
  {
   "cell_type": "code",
   "execution_count": 5,
   "metadata": {},
   "outputs": [],
   "source": [
    "class KMeans:\n",
    "    def __init__(self, k, max_iter=100):\n",
    "        self.k = k\n",
    "        self.max_iter = max_iter\n",
    "\n",
    "    def fit(self, X):\n",
    "        self.centroids = X[np.random.choice(X.shape[0], self.k, replace=False)]\n",
    "        self.x_y = []\n",
    "        for i in range(self.max_iter):\n",
    "            self.clusters = [[] for _ in range(self.k)]\n",
    "            for x in X:\n",
    "                distances = [np.linalg.norm(x - c) for c in self.centroids]\n",
    "                self.clusters[np.argmin(distances)].append(x)\n",
    "                self.x_y.append([x[0],x[1], np.argmin(distances)])\n",
    "            for j in range(self.k):\n",
    "                self.centroids[j] = np.mean(self.clusters[j], axis=0)\n",
    "    \n",
    "    def predict(self, X):\n",
    "        y_pred = []\n",
    "        for x in X:\n",
    "            distances = [np.linalg.norm(x - c) for c in self.centroids]\n",
    "            y_pred.append(np.argmin(distances))\n",
    "        return y_pred\n",
    "    \n",
    "    def getClusters(self):\n",
    "        return self.clusters\n",
    "    \n",
    "    def getCentroids(self):\n",
    "        return self.centroids\n",
    "    \n",
    "    def getX_Y(self):\n",
    "        return self.x_y\n",
    "    \n"
   ]
  },
  {
   "cell_type": "code",
   "execution_count": 7,
   "metadata": {},
   "outputs": [
    {
     "data": {
      "image/png": "[encoded data removed]",
      "text/plain": [
       "<Figure size 640x480 with 1 Axes>"
      ]
     },
     "metadata": {},
     "output_type": "display_data"
    }
   ],
   "source": [
    "km = KMeans(4)\n",
    "km.fit(samples)\n",
    "\n",
    "clusters = km.getClusters()\n",
    "\n",
    "plt.scatter(np.array(clusters[0])[:, 0], np.array(clusters[0])[:, 1], c='b')\n",
    "plt.scatter(np.array(clusters[1])[:, 0], np.array(clusters[1])[:, 1], c='g')\n",
    "plt.scatter(np.array(clusters[2])[:, 0], np.array(clusters[2])[:, 1], c='y')\n",
    "plt.scatter(np.array(clusters[3])[:, 0], np.array(clusters[3])[:, 1], c='c')\n",
    "plt.scatter(km.getCentroids()[:, 0], km.getCentroids()[:, 1], c='r')\n",
    "plt.show()"
   ]
  },
  {
   "attachments": {},
   "cell_type": "markdown",
   "metadata": {},
   "source": [
    "#### Is the k-means able to correctly cluster the different components of the mixture?\n",
    "The K-means algorithm failed to accurately cluster the different components of the mixture, as evident from the comparison of the two graphs above. The main reason behind this failure was the significant overlap between the clusters, which posed a challenge for K-means to distinguish and separate them correctly. Although the algorithm can also struggle with other factors such as varying cluster sizes and densities, this was not the case in our scenario, as our clusters were generated with identical sigma values, resulting in clusters of similar sizes and densities."
   ]
  },
  {
   "cell_type": "code",
   "execution_count": 8,
   "metadata": {},
   "outputs": [
    {
     "name": "stdout",
     "output_type": "stream",
     "text": [
      "[[-1.16463553 -1.12167708]\n",
      " [ 0.80205733  0.96120804]\n",
      " [-1.00007992  0.88684025]\n",
      " [ 0.71047748 -0.93749422]]\n",
      "Accuracy of KMeans: 0.266\n"
     ]
    }
   ],
   "source": [
    "# means of Mixed Gaussian Model : μ1 =(0,1), μ2 =(1,0), μ3 =(−1,0), μ4 =(0,−1)\n",
    "centroids = km.getCentroids()\n",
    "print(centroids)\n",
    "\n",
    "x_y_pred = km.getX_Y()\n",
    "\n",
    "true_predicted = 0\n",
    "for i in range(len(x_y_truth)):\n",
    "    if x_y_truth[i][2] == x_y_pred[i][2]:\n",
    "        true_predicted += 1\n",
    "accuracy = true_predicted/len(x_y_truth)\n",
    "print('Accuracy of KMeans: {}'.format(accuracy))\n"
   ]
  }
 ],
 "metadata": {
  "kernelspec": {
   "display_name": "Python 3",
   "language": "python",
   "name": "python3"
  },
  "language_info": {
   "codemirror_mode": {
    "name": "ipython",
    "version": 3
   },
   "file_extension": ".py",
   "mimetype": "text/x-python",
   "name": "python",
   "nbconvert_exporter": "python",
   "pygments_lexer": "ipython3",
   "version": "3.9.5"
  },
  "orig_nbformat": 4
 },
 "nbformat": 4,
 "nbformat_minor": 2
}
